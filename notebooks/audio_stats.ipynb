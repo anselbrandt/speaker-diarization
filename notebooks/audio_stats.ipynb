{
 "cells": [
  {
   "cell_type": "code",
   "execution_count": 2,
   "metadata": {},
   "outputs": [
    {
     "name": "stdout",
     "output_type": "stream",
     "text": [
      "80 days, 23:21:16.603985\n",
      "1445 files\n"
     ]
    }
   ],
   "source": [
    "import os\n",
    "from mutagen.mp3 import MP3\n",
    "from datetime import timedelta\n",
    "\n",
    "root = \"../files\"\n",
    "dirs = [\n",
    "    os.path.join(root, dir)\n",
    "    for dir in os.listdir(root)\n",
    "    if os.path.isdir(os.path.join(root, dir))\n",
    "]\n",
    "files = [\n",
    "    os.path.join(dir, file)\n",
    "    for dir in dirs\n",
    "    for file in os.listdir(dir)\n",
    "    if os.path.isfile(os.path.join(dir, file))\n",
    "    if \".DS_Store\" not in file\n",
    "]\n",
    "\n",
    "sum = 0\n",
    "\n",
    "for file in files:\n",
    "    if \".DS_Store\" not in file:\n",
    "        audio = MP3(file)\n",
    "        length = audio.info.length\n",
    "        sum = sum + length\n",
    "\n",
    "totaltime = timedelta(seconds=sum)\n",
    "\n",
    "print(totaltime)\n",
    "print(len(files), \"files\")"
   ]
  }
 ],
 "metadata": {
  "kernelspec": {
   "display_name": "Python 3",
   "language": "python",
   "name": "python3"
  },
  "language_info": {
   "codemirror_mode": {
    "name": "ipython",
    "version": 3
   },
   "file_extension": ".py",
   "mimetype": "text/x-python",
   "name": "python",
   "nbconvert_exporter": "python",
   "pygments_lexer": "ipython3",
   "version": "3.12.3"
  }
 },
 "nbformat": 4,
 "nbformat_minor": 2
}
